{
  "cells": [
    {
      "cell_type": "markdown",
      "id": "2a9c8d0b",
      "metadata": {},
      "source": [
        "##### 1. Desarrolla una función que reciba dos números y una operación (suma, resta, multiplicación o división) y retorne el resultado de la operación solicitada.\n"
      ]
    },
    {
      "cell_type": "code",
      "execution_count": null,
      "id": "c1d23ee2",
      "metadata": {},
      "outputs": [],
      "source": []
    },
    {
      "cell_type": "markdown",
      "id": "fbe262c2",
      "metadata": {},
      "source": [
        "##### 2. Escribe una función que reciba un número n y retorne el enésimo número de la secuencia de Fibonacci.\n",
        "##### Entrada esperada: your_function(5)\n",
        "##### Salida esperada: 3\n",
        "##### Ten en cuenta que la serie fibonacci se rige bajo la formula f(n) = f(n-1) + f(n-2)"
      ]
    },
    {
      "cell_type": "code",
      "execution_count": 34,
      "id": "8d159fe7",
      "metadata": {},
      "outputs": [
        {
          "name": "stdout",
          "output_type": "stream",
          "text": [
            "5\n"
          ]
        }
      ],
      "source": []
    },
    {
      "cell_type": "markdown",
      "id": "b32ea9f0",
      "metadata": {},
      "source": [
        "##### 3. Teniendo como punto de partida dos arrays de igual tamaño, generar una función que entregue un array con la mezcla de los dos arrays iniciales. Ejemplo:\n",
        "##### Entrada esperada: your_function([1,3,5],[2,4,6])\n",
        "##### Salida esperada: [1,2,3,4,5,6]\n",
        "##### Entrada esperada: your_function([1,2,3],[4,5,6])\n",
        "##### Salida esperada: [1,4,2,5,3,6]"
      ]
    },
    {
      "cell_type": "code",
      "execution_count": null,
      "id": "a5b8b009",
      "metadata": {
        "trusted": true
      },
      "outputs": [],
      "source": []
    },
    {
      "cell_type": "markdown",
      "id": "ed563a9c",
      "metadata": {},
      "source": [
        "##### 4. Un palíndromo es una palabra, frase, número u otro tipo de secuencia de unidades (como un ADN) que se lee igual hacia adelante que hacia atrás (ignorando espacios, acentos y puntuación). Desarrolla una función que reciba una cadena de caracteres y determine si dicha cadena es un palíndromo. La verificación debe ser insensible a mayúsculas y minúsculas y debe ignorar espacios, acentos y signos de puntuación. La función debe retornar True si la cadena es un palíndromo y False si no lo es.\n",
        "##### Ejemplo:\n",
        "##### Entrada esperada: \n",
        "##### palindrome('kayak')\n",
        "##### palindrome('test')\n",
        "##### Salida esperada:\n",
        "##### True\n",
        "##### False"
      ]
    },
    {
      "cell_type": "code",
      "execution_count": null,
      "id": "ce98e1ea",
      "metadata": {
        "trusted": true
      },
      "outputs": [],
      "source": []
    },
    {
      "cell_type": "markdown",
      "id": "baecb1e5",
      "metadata": {},
      "source": [
        "##### 5. Escribe un código en python tal que puedas intercalar el valor de dos variables sin necesidad de hacer uso de una tercera variable. Las variables siempre guardarán valores numéricos.\n",
        "##### a = 3\n",
        "##### b = 4\n",
        "##### Al final, los valores deben ser:\n",
        "##### a = 4\n",
        "##### b = 3"
      ]
    },
    {
      "cell_type": "code",
      "execution_count": null,
      "id": "94511668",
      "metadata": {
        "trusted": true
      },
      "outputs": [],
      "source": []
    },
    {
      "cell_type": "markdown",
      "id": "526e3e86",
      "metadata": {},
      "source": [
        "##### 6. Escribe una funcion que toma una lista ordenada de enteros y un valor entero. La función debe retornar el index de el valor entero pasado como parámetro. En caso de que el valor entero no se encuentre en la lista, deberás retornar -1\n",
        "##### Entrada esperada:\n",
        "##### your_function([0, 1, 21, 33, 45, 47, 88, 100], 33)\n",
        "##### your_function([0, 1, 21, 33, 45, 47, 88, 100], 10)\n",
        "##### Salida esperada:\n",
        "##### 3\n",
        "##### -1"
      ]
    },
    {
      "cell_type": "code",
      "execution_count": null,
      "id": "19e96852",
      "metadata": {
        "trusted": true
      },
      "outputs": [],
      "source": []
    }
  ],
  "metadata": {
    "kernelspec": {
      "display_name": "validators396",
      "language": "python",
      "name": "python3"
    },
    "language_info": {
      "codemirror_mode": {
        "name": "ipython",
        "version": 3
      },
      "file_extension": ".py",
      "mimetype": "text/x-python",
      "name": "python",
      "nbconvert_exporter": "python",
      "pygments_lexer": "ipython3",
      "version": "3.12.0"
    }
  },
  "nbformat": 4,
  "nbformat_minor": 5
}
